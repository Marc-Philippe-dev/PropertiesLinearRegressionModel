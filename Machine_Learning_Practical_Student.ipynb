{
 "cells": [
  {
   "cell_type": "markdown",
   "metadata": {
    "id": "g98lh3bSUXEl"
   },
   "source": [
    "\n",
    "\n",
    "```\n",
    "# Ce texte est au format code\n",
    "```\n",
    "\n",
    "# TP5 Supervised learning: Regression problem"
   ]
  },
  {
   "cell_type": "code",
   "execution_count": 2,
   "metadata": {
    "id": "gv4gv0n9UXEo",
    "outputId": "1a8f1898-007f-449e-b817-a437d3dac4e5"
   },
   "outputs": [
    {
     "name": "stdout",
     "output_type": "stream",
     "text": [
      "Requirement already satisfied: scikit-optimize in d:\\datascale\\m2\\machinelearning\\tp_5\\propertiesevalmodel\\lib\\site-packages (0.10.2)\n",
      "Requirement already satisfied: pyaml>=16.9 in d:\\datascale\\m2\\machinelearning\\tp_5\\propertiesevalmodel\\lib\\site-packages (from scikit-optimize) (25.7.0)\n",
      "Requirement already satisfied: scikit-learn>=1.0.0 in d:\\datascale\\m2\\machinelearning\\tp_5\\propertiesevalmodel\\lib\\site-packages (from scikit-optimize) (1.7.2)\n",
      "Requirement already satisfied: scipy>=1.1.0 in d:\\datascale\\m2\\machinelearning\\tp_5\\propertiesevalmodel\\lib\\site-packages (from scikit-optimize) (1.15.3)\n",
      "Requirement already satisfied: packaging>=21.3 in d:\\datascale\\m2\\machinelearning\\tp_5\\propertiesevalmodel\\lib\\site-packages (from scikit-optimize) (25.0)\n",
      "Requirement already satisfied: joblib>=0.11 in d:\\datascale\\m2\\machinelearning\\tp_5\\propertiesevalmodel\\lib\\site-packages (from scikit-optimize) (1.5.2)\n",
      "Requirement already satisfied: numpy>=1.20.3 in d:\\datascale\\m2\\machinelearning\\tp_5\\propertiesevalmodel\\lib\\site-packages (from scikit-optimize) (2.2.6)\n",
      "Requirement already satisfied: PyYAML in d:\\datascale\\m2\\machinelearning\\tp_5\\propertiesevalmodel\\lib\\site-packages (from pyaml>=16.9->scikit-optimize) (6.0.3)\n",
      "Requirement already satisfied: threadpoolctl>=3.1.0 in d:\\datascale\\m2\\machinelearning\\tp_5\\propertiesevalmodel\\lib\\site-packages (from scikit-learn>=1.0.0->scikit-optimize) (3.6.0)\n",
      "Note: you may need to restart the kernel to use updated packages.\n"
     ]
    },
    {
     "name": "stderr",
     "output_type": "stream",
     "text": [
      "\n",
      "[notice] A new release of pip is available: 23.0.1 -> 25.3\n",
      "[notice] To update, run: python.exe -m pip install --upgrade pip\n"
     ]
    },
    {
     "name": "stdout",
     "output_type": "stream",
     "text": [
      "Requirement already satisfied: pandas in d:\\datascale\\m2\\machinelearning\\tp_5\\propertiesevalmodel\\lib\\site-packages (2.3.3)\n",
      "Requirement already satisfied: python-dateutil>=2.8.2 in d:\\datascale\\m2\\machinelearning\\tp_5\\propertiesevalmodel\\lib\\site-packages (from pandas) (2.9.0.post0)\n",
      "Requirement already satisfied: tzdata>=2022.7 in d:\\datascale\\m2\\machinelearning\\tp_5\\propertiesevalmodel\\lib\\site-packages (from pandas) (2025.2)\n",
      "Requirement already satisfied: numpy>=1.22.4 in d:\\datascale\\m2\\machinelearning\\tp_5\\propertiesevalmodel\\lib\\site-packages (from pandas) (2.2.6)\n",
      "Requirement already satisfied: pytz>=2020.1 in d:\\datascale\\m2\\machinelearning\\tp_5\\propertiesevalmodel\\lib\\site-packages (from pandas) (2025.2)\n",
      "Requirement already satisfied: six>=1.5 in d:\\datascale\\m2\\machinelearning\\tp_5\\propertiesevalmodel\\lib\\site-packages (from python-dateutil>=2.8.2->pandas) (1.17.0)\n",
      "Note: you may need to restart the kernel to use updated packages.\n"
     ]
    },
    {
     "name": "stderr",
     "output_type": "stream",
     "text": [
      "\n",
      "[notice] A new release of pip is available: 23.0.1 -> 25.3\n",
      "[notice] To update, run: python.exe -m pip install --upgrade pip\n"
     ]
    },
    {
     "name": "stdout",
     "output_type": "stream",
     "text": [
      "Note: you may need to restart the kernel to use updated packages.\n"
     ]
    },
    {
     "name": "stderr",
     "output_type": "stream",
     "text": [
      "ERROR: unknown command \"insall\" - maybe you meant \"install\"\n",
      "\n"
     ]
    }
   ],
   "source": [
    "%pip install scikit-optimize\n",
    "%pip install pandas\n",
    "%pip insall numpy"
   ]
  },
  {
   "cell_type": "code",
   "execution_count": 3,
   "metadata": {
    "id": "4mHX0IL2UXEp"
   },
   "outputs": [],
   "source": [
    "import warnings\n",
    "warnings.filterwarnings('ignore')"
   ]
  },
  {
   "cell_type": "markdown",
   "metadata": {
    "id": "TzDd_S9uUXEq"
   },
   "source": [
    "### Part 1: Descriptive statistics and preprocessing"
   ]
  },
  {
   "cell_type": "markdown",
   "metadata": {},
   "source": [
    "Let's first import all the libraries that will need."
   ]
  },
  {
   "cell_type": "code",
   "execution_count": 4,
   "metadata": {},
   "outputs": [],
   "source": [
    "import pandas as pd \n",
    "import numpy as np"
   ]
  },
  {
   "cell_type": "markdown",
   "metadata": {
    "id": "Be-GuHKs8HHK"
   },
   "source": [
    "1) Load _*train.csv*_ and _*test.csv*_ datasets, print their shapes, display the first few rows, and provide a summary with [pandas.DataFrame.describe](https://pandas.pydata.org/docs/reference/api/pandas.DataFrame.describe.html) for each dataset."
   ]
  },
  {
   "cell_type": "code",
   "execution_count": 5,
   "metadata": {
    "id": "TiGgHKI1UXEr"
   },
   "outputs": [
    {
     "name": "stdout",
     "output_type": "stream",
     "text": [
      "Train data shape: (1000, 38)\n",
      "Test data shape: (460, 38)\n"
     ]
    }
   ],
   "source": [
    "# Answer\n",
    "train_data = pd.read_csv('data/train.csv')\n",
    "test_data = pd.read_csv('data/test.csv')\n",
    "\n",
    "print(\"Train data shape:\", train_data.shape)\n",
    "print(\"Test data shape:\" , test_data.shape)\n"
   ]
  },
  {
   "cell_type": "markdown",
   "metadata": {},
   "source": [
    "The train dataset contains __1000 samples and 38 features__, while the test dataset contains __460 samples and 38__ features. They both have the __same number of features__, which is expected since they are likely to be used for training and evaluating a machine learning model."
   ]
  },
  {
   "cell_type": "markdown",
   "metadata": {},
   "source": [
    "Let's display the first 10 records for both dataset"
   ]
  },
  {
   "cell_type": "code",
   "execution_count": 6,
   "metadata": {},
   "outputs": [
    {
     "name": "stdout",
     "output_type": "stream",
     "text": [
      "\n",
      "First 10 rows of Train data:\n"
     ]
    },
    {
     "data": {
      "text/html": [
       "<div>\n",
       "<style scoped>\n",
       "    .dataframe tbody tr th:only-of-type {\n",
       "        vertical-align: middle;\n",
       "    }\n",
       "\n",
       "    .dataframe tbody tr th {\n",
       "        vertical-align: top;\n",
       "    }\n",
       "\n",
       "    .dataframe thead th {\n",
       "        text-align: right;\n",
       "    }\n",
       "</style>\n",
       "<table border=\"1\" class=\"dataframe\">\n",
       "  <thead>\n",
       "    <tr style=\"text-align: right;\">\n",
       "      <th></th>\n",
       "      <th>Id</th>\n",
       "      <th>MSSubClass</th>\n",
       "      <th>LotFrontage</th>\n",
       "      <th>LotArea</th>\n",
       "      <th>OverallQual</th>\n",
       "      <th>OverallCond</th>\n",
       "      <th>YearBuilt</th>\n",
       "      <th>YearRemodAdd</th>\n",
       "      <th>MasVnrArea</th>\n",
       "      <th>BsmtFinSF1</th>\n",
       "      <th>...</th>\n",
       "      <th>WoodDeckSF</th>\n",
       "      <th>OpenPorchSF</th>\n",
       "      <th>EnclosedPorch</th>\n",
       "      <th>3SsnPorch</th>\n",
       "      <th>ScreenPorch</th>\n",
       "      <th>PoolArea</th>\n",
       "      <th>MiscVal</th>\n",
       "      <th>MoSold</th>\n",
       "      <th>YrSold</th>\n",
       "      <th>SalePrice</th>\n",
       "    </tr>\n",
       "  </thead>\n",
       "  <tbody>\n",
       "    <tr>\n",
       "      <th>0</th>\n",
       "      <td>1</td>\n",
       "      <td>60</td>\n",
       "      <td>65.0</td>\n",
       "      <td>8450</td>\n",
       "      <td>7</td>\n",
       "      <td>5</td>\n",
       "      <td>2003</td>\n",
       "      <td>2003</td>\n",
       "      <td>196.0</td>\n",
       "      <td>706</td>\n",
       "      <td>...</td>\n",
       "      <td>0</td>\n",
       "      <td>61</td>\n",
       "      <td>0</td>\n",
       "      <td>0</td>\n",
       "      <td>0</td>\n",
       "      <td>0</td>\n",
       "      <td>0</td>\n",
       "      <td>2</td>\n",
       "      <td>2008</td>\n",
       "      <td>208500</td>\n",
       "    </tr>\n",
       "    <tr>\n",
       "      <th>1</th>\n",
       "      <td>2</td>\n",
       "      <td>20</td>\n",
       "      <td>80.0</td>\n",
       "      <td>9600</td>\n",
       "      <td>6</td>\n",
       "      <td>8</td>\n",
       "      <td>1976</td>\n",
       "      <td>1976</td>\n",
       "      <td>0.0</td>\n",
       "      <td>978</td>\n",
       "      <td>...</td>\n",
       "      <td>298</td>\n",
       "      <td>0</td>\n",
       "      <td>0</td>\n",
       "      <td>0</td>\n",
       "      <td>0</td>\n",
       "      <td>0</td>\n",
       "      <td>0</td>\n",
       "      <td>5</td>\n",
       "      <td>2007</td>\n",
       "      <td>181500</td>\n",
       "    </tr>\n",
       "    <tr>\n",
       "      <th>2</th>\n",
       "      <td>3</td>\n",
       "      <td>60</td>\n",
       "      <td>68.0</td>\n",
       "      <td>11250</td>\n",
       "      <td>7</td>\n",
       "      <td>5</td>\n",
       "      <td>2001</td>\n",
       "      <td>2002</td>\n",
       "      <td>162.0</td>\n",
       "      <td>486</td>\n",
       "      <td>...</td>\n",
       "      <td>0</td>\n",
       "      <td>42</td>\n",
       "      <td>0</td>\n",
       "      <td>0</td>\n",
       "      <td>0</td>\n",
       "      <td>0</td>\n",
       "      <td>0</td>\n",
       "      <td>9</td>\n",
       "      <td>2008</td>\n",
       "      <td>223500</td>\n",
       "    </tr>\n",
       "    <tr>\n",
       "      <th>3</th>\n",
       "      <td>4</td>\n",
       "      <td>70</td>\n",
       "      <td>60.0</td>\n",
       "      <td>9550</td>\n",
       "      <td>7</td>\n",
       "      <td>5</td>\n",
       "      <td>1915</td>\n",
       "      <td>1970</td>\n",
       "      <td>0.0</td>\n",
       "      <td>216</td>\n",
       "      <td>...</td>\n",
       "      <td>0</td>\n",
       "      <td>35</td>\n",
       "      <td>272</td>\n",
       "      <td>0</td>\n",
       "      <td>0</td>\n",
       "      <td>0</td>\n",
       "      <td>0</td>\n",
       "      <td>2</td>\n",
       "      <td>2006</td>\n",
       "      <td>140000</td>\n",
       "    </tr>\n",
       "    <tr>\n",
       "      <th>4</th>\n",
       "      <td>5</td>\n",
       "      <td>60</td>\n",
       "      <td>84.0</td>\n",
       "      <td>14260</td>\n",
       "      <td>8</td>\n",
       "      <td>5</td>\n",
       "      <td>2000</td>\n",
       "      <td>2000</td>\n",
       "      <td>350.0</td>\n",
       "      <td>655</td>\n",
       "      <td>...</td>\n",
       "      <td>192</td>\n",
       "      <td>84</td>\n",
       "      <td>0</td>\n",
       "      <td>0</td>\n",
       "      <td>0</td>\n",
       "      <td>0</td>\n",
       "      <td>0</td>\n",
       "      <td>12</td>\n",
       "      <td>2008</td>\n",
       "      <td>250000</td>\n",
       "    </tr>\n",
       "    <tr>\n",
       "      <th>5</th>\n",
       "      <td>6</td>\n",
       "      <td>50</td>\n",
       "      <td>85.0</td>\n",
       "      <td>14115</td>\n",
       "      <td>5</td>\n",
       "      <td>5</td>\n",
       "      <td>1993</td>\n",
       "      <td>1995</td>\n",
       "      <td>0.0</td>\n",
       "      <td>732</td>\n",
       "      <td>...</td>\n",
       "      <td>40</td>\n",
       "      <td>30</td>\n",
       "      <td>0</td>\n",
       "      <td>320</td>\n",
       "      <td>0</td>\n",
       "      <td>0</td>\n",
       "      <td>700</td>\n",
       "      <td>10</td>\n",
       "      <td>2009</td>\n",
       "      <td>143000</td>\n",
       "    </tr>\n",
       "    <tr>\n",
       "      <th>6</th>\n",
       "      <td>7</td>\n",
       "      <td>20</td>\n",
       "      <td>75.0</td>\n",
       "      <td>10084</td>\n",
       "      <td>8</td>\n",
       "      <td>5</td>\n",
       "      <td>2004</td>\n",
       "      <td>2005</td>\n",
       "      <td>186.0</td>\n",
       "      <td>1369</td>\n",
       "      <td>...</td>\n",
       "      <td>255</td>\n",
       "      <td>57</td>\n",
       "      <td>0</td>\n",
       "      <td>0</td>\n",
       "      <td>0</td>\n",
       "      <td>0</td>\n",
       "      <td>0</td>\n",
       "      <td>8</td>\n",
       "      <td>2007</td>\n",
       "      <td>307000</td>\n",
       "    </tr>\n",
       "    <tr>\n",
       "      <th>7</th>\n",
       "      <td>8</td>\n",
       "      <td>60</td>\n",
       "      <td>NaN</td>\n",
       "      <td>10382</td>\n",
       "      <td>7</td>\n",
       "      <td>6</td>\n",
       "      <td>1973</td>\n",
       "      <td>1973</td>\n",
       "      <td>240.0</td>\n",
       "      <td>859</td>\n",
       "      <td>...</td>\n",
       "      <td>235</td>\n",
       "      <td>204</td>\n",
       "      <td>228</td>\n",
       "      <td>0</td>\n",
       "      <td>0</td>\n",
       "      <td>0</td>\n",
       "      <td>350</td>\n",
       "      <td>11</td>\n",
       "      <td>2009</td>\n",
       "      <td>200000</td>\n",
       "    </tr>\n",
       "    <tr>\n",
       "      <th>8</th>\n",
       "      <td>9</td>\n",
       "      <td>50</td>\n",
       "      <td>51.0</td>\n",
       "      <td>6120</td>\n",
       "      <td>7</td>\n",
       "      <td>5</td>\n",
       "      <td>1931</td>\n",
       "      <td>1950</td>\n",
       "      <td>0.0</td>\n",
       "      <td>0</td>\n",
       "      <td>...</td>\n",
       "      <td>90</td>\n",
       "      <td>0</td>\n",
       "      <td>205</td>\n",
       "      <td>0</td>\n",
       "      <td>0</td>\n",
       "      <td>0</td>\n",
       "      <td>0</td>\n",
       "      <td>4</td>\n",
       "      <td>2008</td>\n",
       "      <td>129900</td>\n",
       "    </tr>\n",
       "    <tr>\n",
       "      <th>9</th>\n",
       "      <td>10</td>\n",
       "      <td>190</td>\n",
       "      <td>50.0</td>\n",
       "      <td>7420</td>\n",
       "      <td>5</td>\n",
       "      <td>6</td>\n",
       "      <td>1939</td>\n",
       "      <td>1950</td>\n",
       "      <td>0.0</td>\n",
       "      <td>851</td>\n",
       "      <td>...</td>\n",
       "      <td>0</td>\n",
       "      <td>4</td>\n",
       "      <td>0</td>\n",
       "      <td>0</td>\n",
       "      <td>0</td>\n",
       "      <td>0</td>\n",
       "      <td>0</td>\n",
       "      <td>1</td>\n",
       "      <td>2008</td>\n",
       "      <td>118000</td>\n",
       "    </tr>\n",
       "  </tbody>\n",
       "</table>\n",
       "<p>10 rows × 38 columns</p>\n",
       "</div>"
      ],
      "text/plain": [
       "   Id  MSSubClass  LotFrontage  LotArea  OverallQual  OverallCond  YearBuilt  \\\n",
       "0   1          60         65.0     8450            7            5       2003   \n",
       "1   2          20         80.0     9600            6            8       1976   \n",
       "2   3          60         68.0    11250            7            5       2001   \n",
       "3   4          70         60.0     9550            7            5       1915   \n",
       "4   5          60         84.0    14260            8            5       2000   \n",
       "5   6          50         85.0    14115            5            5       1993   \n",
       "6   7          20         75.0    10084            8            5       2004   \n",
       "7   8          60          NaN    10382            7            6       1973   \n",
       "8   9          50         51.0     6120            7            5       1931   \n",
       "9  10         190         50.0     7420            5            6       1939   \n",
       "\n",
       "   YearRemodAdd  MasVnrArea  BsmtFinSF1  ...  WoodDeckSF  OpenPorchSF  \\\n",
       "0          2003       196.0         706  ...           0           61   \n",
       "1          1976         0.0         978  ...         298            0   \n",
       "2          2002       162.0         486  ...           0           42   \n",
       "3          1970         0.0         216  ...           0           35   \n",
       "4          2000       350.0         655  ...         192           84   \n",
       "5          1995         0.0         732  ...          40           30   \n",
       "6          2005       186.0        1369  ...         255           57   \n",
       "7          1973       240.0         859  ...         235          204   \n",
       "8          1950         0.0           0  ...          90            0   \n",
       "9          1950         0.0         851  ...           0            4   \n",
       "\n",
       "   EnclosedPorch  3SsnPorch  ScreenPorch  PoolArea  MiscVal  MoSold  YrSold  \\\n",
       "0              0          0            0         0        0       2    2008   \n",
       "1              0          0            0         0        0       5    2007   \n",
       "2              0          0            0         0        0       9    2008   \n",
       "3            272          0            0         0        0       2    2006   \n",
       "4              0          0            0         0        0      12    2008   \n",
       "5              0        320            0         0      700      10    2009   \n",
       "6              0          0            0         0        0       8    2007   \n",
       "7            228          0            0         0      350      11    2009   \n",
       "8            205          0            0         0        0       4    2008   \n",
       "9              0          0            0         0        0       1    2008   \n",
       "\n",
       "   SalePrice  \n",
       "0     208500  \n",
       "1     181500  \n",
       "2     223500  \n",
       "3     140000  \n",
       "4     250000  \n",
       "5     143000  \n",
       "6     307000  \n",
       "7     200000  \n",
       "8     129900  \n",
       "9     118000  \n",
       "\n",
       "[10 rows x 38 columns]"
      ]
     },
     "execution_count": 6,
     "metadata": {},
     "output_type": "execute_result"
    }
   ],
   "source": [
    "print(\"\\nFirst 10 rows of Train data:\")\n",
    "train_data.head(10)\n"
   ]
  },
  {
   "cell_type": "code",
   "execution_count": 7,
   "metadata": {},
   "outputs": [
    {
     "name": "stdout",
     "output_type": "stream",
     "text": [
      "\n",
      "First 10 rows of Test data:\n"
     ]
    },
    {
     "data": {
      "text/html": [
       "<div>\n",
       "<style scoped>\n",
       "    .dataframe tbody tr th:only-of-type {\n",
       "        vertical-align: middle;\n",
       "    }\n",
       "\n",
       "    .dataframe tbody tr th {\n",
       "        vertical-align: top;\n",
       "    }\n",
       "\n",
       "    .dataframe thead th {\n",
       "        text-align: right;\n",
       "    }\n",
       "</style>\n",
       "<table border=\"1\" class=\"dataframe\">\n",
       "  <thead>\n",
       "    <tr style=\"text-align: right;\">\n",
       "      <th></th>\n",
       "      <th>Id</th>\n",
       "      <th>MSSubClass</th>\n",
       "      <th>LotFrontage</th>\n",
       "      <th>LotArea</th>\n",
       "      <th>OverallQual</th>\n",
       "      <th>OverallCond</th>\n",
       "      <th>YearBuilt</th>\n",
       "      <th>YearRemodAdd</th>\n",
       "      <th>MasVnrArea</th>\n",
       "      <th>BsmtFinSF1</th>\n",
       "      <th>...</th>\n",
       "      <th>WoodDeckSF</th>\n",
       "      <th>OpenPorchSF</th>\n",
       "      <th>EnclosedPorch</th>\n",
       "      <th>3SsnPorch</th>\n",
       "      <th>ScreenPorch</th>\n",
       "      <th>PoolArea</th>\n",
       "      <th>MiscVal</th>\n",
       "      <th>MoSold</th>\n",
       "      <th>YrSold</th>\n",
       "      <th>SalePrice</th>\n",
       "    </tr>\n",
       "  </thead>\n",
       "  <tbody>\n",
       "    <tr>\n",
       "      <th>0</th>\n",
       "      <td>1001</td>\n",
       "      <td>20</td>\n",
       "      <td>74.0</td>\n",
       "      <td>10206</td>\n",
       "      <td>3</td>\n",
       "      <td>3</td>\n",
       "      <td>1952</td>\n",
       "      <td>1952</td>\n",
       "      <td>0.0</td>\n",
       "      <td>0</td>\n",
       "      <td>...</td>\n",
       "      <td>0</td>\n",
       "      <td>0</td>\n",
       "      <td>0</td>\n",
       "      <td>0</td>\n",
       "      <td>0</td>\n",
       "      <td>0</td>\n",
       "      <td>0</td>\n",
       "      <td>7</td>\n",
       "      <td>2009</td>\n",
       "      <td>82000</td>\n",
       "    </tr>\n",
       "    <tr>\n",
       "      <th>1</th>\n",
       "      <td>1002</td>\n",
       "      <td>30</td>\n",
       "      <td>60.0</td>\n",
       "      <td>5400</td>\n",
       "      <td>5</td>\n",
       "      <td>6</td>\n",
       "      <td>1920</td>\n",
       "      <td>1950</td>\n",
       "      <td>0.0</td>\n",
       "      <td>0</td>\n",
       "      <td>...</td>\n",
       "      <td>0</td>\n",
       "      <td>20</td>\n",
       "      <td>94</td>\n",
       "      <td>0</td>\n",
       "      <td>0</td>\n",
       "      <td>0</td>\n",
       "      <td>0</td>\n",
       "      <td>1</td>\n",
       "      <td>2007</td>\n",
       "      <td>86000</td>\n",
       "    </tr>\n",
       "    <tr>\n",
       "      <th>2</th>\n",
       "      <td>1003</td>\n",
       "      <td>20</td>\n",
       "      <td>75.0</td>\n",
       "      <td>11957</td>\n",
       "      <td>8</td>\n",
       "      <td>5</td>\n",
       "      <td>2006</td>\n",
       "      <td>2006</td>\n",
       "      <td>53.0</td>\n",
       "      <td>24</td>\n",
       "      <td>...</td>\n",
       "      <td>144</td>\n",
       "      <td>104</td>\n",
       "      <td>0</td>\n",
       "      <td>0</td>\n",
       "      <td>0</td>\n",
       "      <td>0</td>\n",
       "      <td>0</td>\n",
       "      <td>7</td>\n",
       "      <td>2008</td>\n",
       "      <td>232000</td>\n",
       "    </tr>\n",
       "    <tr>\n",
       "      <th>3</th>\n",
       "      <td>1004</td>\n",
       "      <td>90</td>\n",
       "      <td>NaN</td>\n",
       "      <td>11500</td>\n",
       "      <td>5</td>\n",
       "      <td>6</td>\n",
       "      <td>1976</td>\n",
       "      <td>1976</td>\n",
       "      <td>164.0</td>\n",
       "      <td>0</td>\n",
       "      <td>...</td>\n",
       "      <td>0</td>\n",
       "      <td>0</td>\n",
       "      <td>0</td>\n",
       "      <td>0</td>\n",
       "      <td>0</td>\n",
       "      <td>0</td>\n",
       "      <td>0</td>\n",
       "      <td>6</td>\n",
       "      <td>2007</td>\n",
       "      <td>136905</td>\n",
       "    </tr>\n",
       "    <tr>\n",
       "      <th>4</th>\n",
       "      <td>1005</td>\n",
       "      <td>120</td>\n",
       "      <td>43.0</td>\n",
       "      <td>3182</td>\n",
       "      <td>7</td>\n",
       "      <td>5</td>\n",
       "      <td>2005</td>\n",
       "      <td>2006</td>\n",
       "      <td>16.0</td>\n",
       "      <td>16</td>\n",
       "      <td>...</td>\n",
       "      <td>156</td>\n",
       "      <td>0</td>\n",
       "      <td>0</td>\n",
       "      <td>0</td>\n",
       "      <td>0</td>\n",
       "      <td>0</td>\n",
       "      <td>0</td>\n",
       "      <td>5</td>\n",
       "      <td>2009</td>\n",
       "      <td>181000</td>\n",
       "    </tr>\n",
       "    <tr>\n",
       "      <th>5</th>\n",
       "      <td>1006</td>\n",
       "      <td>80</td>\n",
       "      <td>65.0</td>\n",
       "      <td>8385</td>\n",
       "      <td>5</td>\n",
       "      <td>8</td>\n",
       "      <td>1977</td>\n",
       "      <td>1977</td>\n",
       "      <td>220.0</td>\n",
       "      <td>595</td>\n",
       "      <td>...</td>\n",
       "      <td>210</td>\n",
       "      <td>0</td>\n",
       "      <td>0</td>\n",
       "      <td>0</td>\n",
       "      <td>0</td>\n",
       "      <td>0</td>\n",
       "      <td>0</td>\n",
       "      <td>11</td>\n",
       "      <td>2008</td>\n",
       "      <td>149900</td>\n",
       "    </tr>\n",
       "    <tr>\n",
       "      <th>6</th>\n",
       "      <td>1007</td>\n",
       "      <td>20</td>\n",
       "      <td>NaN</td>\n",
       "      <td>12155</td>\n",
       "      <td>6</td>\n",
       "      <td>3</td>\n",
       "      <td>1970</td>\n",
       "      <td>1970</td>\n",
       "      <td>0.0</td>\n",
       "      <td>1237</td>\n",
       "      <td>...</td>\n",
       "      <td>0</td>\n",
       "      <td>0</td>\n",
       "      <td>0</td>\n",
       "      <td>0</td>\n",
       "      <td>147</td>\n",
       "      <td>0</td>\n",
       "      <td>0</td>\n",
       "      <td>3</td>\n",
       "      <td>2007</td>\n",
       "      <td>163500</td>\n",
       "    </tr>\n",
       "    <tr>\n",
       "      <th>7</th>\n",
       "      <td>1008</td>\n",
       "      <td>160</td>\n",
       "      <td>21.0</td>\n",
       "      <td>2217</td>\n",
       "      <td>4</td>\n",
       "      <td>4</td>\n",
       "      <td>1970</td>\n",
       "      <td>1970</td>\n",
       "      <td>0.0</td>\n",
       "      <td>273</td>\n",
       "      <td>...</td>\n",
       "      <td>238</td>\n",
       "      <td>0</td>\n",
       "      <td>0</td>\n",
       "      <td>0</td>\n",
       "      <td>0</td>\n",
       "      <td>0</td>\n",
       "      <td>0</td>\n",
       "      <td>8</td>\n",
       "      <td>2009</td>\n",
       "      <td>88000</td>\n",
       "    </tr>\n",
       "    <tr>\n",
       "      <th>8</th>\n",
       "      <td>1009</td>\n",
       "      <td>20</td>\n",
       "      <td>43.0</td>\n",
       "      <td>12118</td>\n",
       "      <td>7</td>\n",
       "      <td>5</td>\n",
       "      <td>2004</td>\n",
       "      <td>2005</td>\n",
       "      <td>108.0</td>\n",
       "      <td>0</td>\n",
       "      <td>...</td>\n",
       "      <td>100</td>\n",
       "      <td>48</td>\n",
       "      <td>0</td>\n",
       "      <td>0</td>\n",
       "      <td>180</td>\n",
       "      <td>0</td>\n",
       "      <td>0</td>\n",
       "      <td>4</td>\n",
       "      <td>2009</td>\n",
       "      <td>240000</td>\n",
       "    </tr>\n",
       "    <tr>\n",
       "      <th>9</th>\n",
       "      <td>1010</td>\n",
       "      <td>50</td>\n",
       "      <td>60.0</td>\n",
       "      <td>6000</td>\n",
       "      <td>5</td>\n",
       "      <td>5</td>\n",
       "      <td>1926</td>\n",
       "      <td>1950</td>\n",
       "      <td>0.0</td>\n",
       "      <td>0</td>\n",
       "      <td>...</td>\n",
       "      <td>0</td>\n",
       "      <td>0</td>\n",
       "      <td>138</td>\n",
       "      <td>0</td>\n",
       "      <td>0</td>\n",
       "      <td>0</td>\n",
       "      <td>0</td>\n",
       "      <td>6</td>\n",
       "      <td>2006</td>\n",
       "      <td>102000</td>\n",
       "    </tr>\n",
       "  </tbody>\n",
       "</table>\n",
       "<p>10 rows × 38 columns</p>\n",
       "</div>"
      ],
      "text/plain": [
       "     Id  MSSubClass  LotFrontage  LotArea  OverallQual  OverallCond  \\\n",
       "0  1001          20         74.0    10206            3            3   \n",
       "1  1002          30         60.0     5400            5            6   \n",
       "2  1003          20         75.0    11957            8            5   \n",
       "3  1004          90          NaN    11500            5            6   \n",
       "4  1005         120         43.0     3182            7            5   \n",
       "5  1006          80         65.0     8385            5            8   \n",
       "6  1007          20          NaN    12155            6            3   \n",
       "7  1008         160         21.0     2217            4            4   \n",
       "8  1009          20         43.0    12118            7            5   \n",
       "9  1010          50         60.0     6000            5            5   \n",
       "\n",
       "   YearBuilt  YearRemodAdd  MasVnrArea  BsmtFinSF1  ...  WoodDeckSF  \\\n",
       "0       1952          1952         0.0           0  ...           0   \n",
       "1       1920          1950         0.0           0  ...           0   \n",
       "2       2006          2006        53.0          24  ...         144   \n",
       "3       1976          1976       164.0           0  ...           0   \n",
       "4       2005          2006        16.0          16  ...         156   \n",
       "5       1977          1977       220.0         595  ...         210   \n",
       "6       1970          1970         0.0        1237  ...           0   \n",
       "7       1970          1970         0.0         273  ...         238   \n",
       "8       2004          2005       108.0           0  ...         100   \n",
       "9       1926          1950         0.0           0  ...           0   \n",
       "\n",
       "   OpenPorchSF  EnclosedPorch  3SsnPorch  ScreenPorch  PoolArea  MiscVal  \\\n",
       "0            0              0          0            0         0        0   \n",
       "1           20             94          0            0         0        0   \n",
       "2          104              0          0            0         0        0   \n",
       "3            0              0          0            0         0        0   \n",
       "4            0              0          0            0         0        0   \n",
       "5            0              0          0            0         0        0   \n",
       "6            0              0          0          147         0        0   \n",
       "7            0              0          0            0         0        0   \n",
       "8           48              0          0          180         0        0   \n",
       "9            0            138          0            0         0        0   \n",
       "\n",
       "   MoSold  YrSold  SalePrice  \n",
       "0       7    2009      82000  \n",
       "1       1    2007      86000  \n",
       "2       7    2008     232000  \n",
       "3       6    2007     136905  \n",
       "4       5    2009     181000  \n",
       "5      11    2008     149900  \n",
       "6       3    2007     163500  \n",
       "7       8    2009      88000  \n",
       "8       4    2009     240000  \n",
       "9       6    2006     102000  \n",
       "\n",
       "[10 rows x 38 columns]"
      ]
     },
     "execution_count": 7,
     "metadata": {},
     "output_type": "execute_result"
    }
   ],
   "source": [
    "print(\"\\nFirst 10 rows of Test data:\")\n",
    "test_data.head(10)"
   ]
  },
  {
   "cell_type": "markdown",
   "metadata": {
    "id": "Cd1U2iicUXEs"
   },
   "source": [
    "2) Extract ```SalePrice``` as the target variable from the ```train``` and ```test``` datasets, storing them as ```train_target``` and ```test_target``` respectively. Remove unnecessary variables from the same datasets."
   ]
  },
  {
   "cell_type": "code",
   "execution_count": 8,
   "metadata": {
    "id": "FU79Rx72UXEs"
   },
   "outputs": [
    {
     "name": "stdout",
     "output_type": "stream",
     "text": [
      "\n",
      "Train target variable 'SalePrice':\n"
     ]
    },
    {
     "data": {
      "text/plain": [
       "0      208500\n",
       "1      181500\n",
       "2      223500\n",
       "3      140000\n",
       "4      250000\n",
       "        ...  \n",
       "995    121600\n",
       "996    136500\n",
       "997    185000\n",
       "998     91000\n",
       "999    206000\n",
       "Name: SalePrice, Length: 1000, dtype: int64"
      ]
     },
     "execution_count": 8,
     "metadata": {},
     "output_type": "execute_result"
    }
   ],
   "source": [
    "# Answer : Train target variable 'SalePrice'\n",
    "train_target = train_data['SalePrice']\n",
    "print(\"\\nTrain target variable 'SalePrice':\")\n",
    "train_target"
   ]
  },
  {
   "cell_type": "code",
   "execution_count": 9,
   "metadata": {},
   "outputs": [
    {
     "name": "stdout",
     "output_type": "stream",
     "text": [
      "\n",
      "Test target variable 'SalePrice':\n"
     ]
    },
    {
     "data": {
      "text/plain": [
       "0       82000\n",
       "1       86000\n",
       "2      232000\n",
       "3      136905\n",
       "4      181000\n",
       "        ...  \n",
       "455    175000\n",
       "456    210000\n",
       "457    266500\n",
       "458    142125\n",
       "459    147500\n",
       "Name: SalePrice, Length: 460, dtype: int64"
      ]
     },
     "execution_count": 9,
     "metadata": {},
     "output_type": "execute_result"
    }
   ],
   "source": [
    "# Answer : Test target variable 'SalePrice'\n",
    "test_target = test_data['SalePrice']\n",
    "print(\"\\nTest target variable 'SalePrice':\")\n",
    "test_target"
   ]
  },
  {
   "cell_type": "markdown",
   "metadata": {
    "id": "XYhQi8V4HOlA"
   },
   "source": [
    "3) Define a function that identifies variables with missing values, and returns each variable's name, the number of missing values, and the percentage of missing values."
   ]
  },
  {
   "cell_type": "code",
   "execution_count": 10,
   "metadata": {
    "id": "angEhR1QUXEu"
   },
   "outputs": [
    {
     "name": "stdout",
     "output_type": "stream",
     "text": [
      "Missing values in Train data:\n",
      "      variable  missing_count  missing_percent\n",
      "0  LotFrontage            173             17.3\n",
      "1  GarageYrBlt             56              5.6\n",
      "2   MasVnrArea              6              0.6\n",
      "\n",
      "Missing values in Test data:\n",
      "      variable  missing_count  missing_percent\n",
      "0  LotFrontage             86        18.695652\n",
      "1  GarageYrBlt             25         5.434783\n",
      "2   MasVnrArea              2         0.434783\n"
     ]
    }
   ],
   "source": [
    "# Answer\n",
    "import pandas as pd\n",
    "\n",
    "def detect_missing_values(df : pd.DataFrame) -> pd.DataFrame:\n",
    "    \"\"\"\n",
    "    Identify variables (columns) with missing values.\n",
    "    Returns a DataFrame with:\n",
    "      - variable name\n",
    "      - number of missing values\n",
    "      - percentage of missing values\n",
    "    \"\"\"\n",
    "    missing = df.isnull().sum()\n",
    "    missing = missing[missing > 0]  # keep only columns with missing values\n",
    "\n",
    "    if missing.empty:\n",
    "        print(\"No missing values found.\")\n",
    "        return pd.DataFrame(columns=['variable', 'missing_count', 'missing_percent'])\n",
    "\n",
    "    missing_percent = 100 * missing / len(df)\n",
    "    result = pd.DataFrame({\n",
    "        'variable': missing.index,\n",
    "        'missing_count': missing.values,\n",
    "        'missing_percent': missing_percent.values\n",
    "    }).sort_values(by='missing_percent', ascending=False).reset_index(drop=True)\n",
    "\n",
    "    return result\n",
    "\n",
    "print(\"Missing values in Train data:\")\n",
    "missing_train = detect_missing_values(train_data)\n",
    "print(missing_train)\t\t\n",
    "print(\"\\nMissing values in Test data:\")\n",
    "missing_test = detect_missing_values(test_data)\n",
    "print(missing_test)"
   ]
  },
  {
   "cell_type": "markdown",
   "metadata": {
    "id": "9khNgR8m9YcS"
   },
   "source": [
    "4) For simplicity, fill the missing values with 0 using [pandas.DataFrame.fillna](https://pandas.pydata.org/docs/reference/api/pandas.DataFrame.fillna.html) (modify the same dataset)."
   ]
  },
  {
   "cell_type": "code",
   "execution_count": 32,
   "metadata": {
    "id": "EBUuaw0lUXEv"
   },
   "outputs": [],
   "source": [
    "# Answer\n"
   ]
  },
  {
   "cell_type": "markdown",
   "metadata": {
    "id": "UcA0NMcU-AU6"
   },
   "source": [
    "5) Describe the target variable ```train_target```"
   ]
  },
  {
   "cell_type": "code",
   "execution_count": 33,
   "metadata": {
    "id": "RF13vqBPUXEw"
   },
   "outputs": [],
   "source": [
    "# Answer\n"
   ]
  },
  {
   "cell_type": "markdown",
   "metadata": {
    "id": "0VGZoDE4-Y-z"
   },
   "source": [
    "6) Plot the histogram and density of ```train_target``` (you can use [seaborn.displot](https://seaborn.pydata.org/generated/seaborn.displot.html) module)"
   ]
  },
  {
   "cell_type": "code",
   "execution_count": 34,
   "metadata": {
    "id": "6vR-wJVcUXEw"
   },
   "outputs": [],
   "source": [
    "# Answer\n"
   ]
  },
  {
   "cell_type": "markdown",
   "metadata": {
    "id": "c5onn1vI-1na"
   },
   "source": [
    "7) Plot histograms of all other variables using [pandas.DataFrame.hist](https://pandas.pydata.org/docs/reference/api/pandas.DataFrame.hist.html)"
   ]
  },
  {
   "cell_type": "code",
   "execution_count": 35,
   "metadata": {
    "id": "UZtvrv04UXEx"
   },
   "outputs": [],
   "source": [
    "# Answer\n"
   ]
  },
  {
   "cell_type": "markdown",
   "metadata": {
    "id": "3GSIUXtvUXEx"
   },
   "source": [
    "8) Compute and plot the correlation matrix between the variables using [seaborn.heatmap](https://seaborn.pydata.org/generated/seaborn.heatmap.html). Comment the results."
   ]
  },
  {
   "cell_type": "code",
   "execution_count": 36,
   "metadata": {
    "id": "zbiUHTwHUXEx"
   },
   "outputs": [],
   "source": [
    "# Answer\n"
   ]
  },
  {
   "cell_type": "markdown",
   "metadata": {
    "id": "MemWtYQ1UXEx"
   },
   "source": [
    "9) Visualize correlations between ```SalePrice``` and other variables using a [seaborn.barplot](https://seaborn.pydata.org/generated/seaborn.barplot.html)."
   ]
  },
  {
   "cell_type": "code",
   "execution_count": 37,
   "metadata": {
    "id": "B6HXAaZJUXEx"
   },
   "outputs": [],
   "source": [
    "# Answer\n"
   ]
  },
  {
   "cell_type": "markdown",
   "metadata": {
    "id": "4bvKUdKYUXEy"
   },
   "source": [
    "10) Visualize the scatter plot of the ```SalePrice``` variable as a function of the ```GrLivArea```. Comment."
   ]
  },
  {
   "cell_type": "code",
   "execution_count": 38,
   "metadata": {
    "id": "Aa2DNbQSUXEy"
   },
   "outputs": [],
   "source": [
    "# Answer\n"
   ]
  },
  {
   "cell_type": "markdown",
   "metadata": {
    "id": "Epy-4MEkUXEy"
   },
   "source": [
    "11) Visualize the boxplot of the ```SalePrice``` variable as a function of the ```OverallQual``` using [seaborn.boxplot](https://seaborn.pydata.org/generated/seaborn.boxplot.html). Interpret the boxplot"
   ]
  },
  {
   "cell_type": "code",
   "execution_count": 39,
   "metadata": {
    "id": "dpEpPfzZUXEy"
   },
   "outputs": [],
   "source": [
    "# Answer\n"
   ]
  },
  {
   "cell_type": "markdown",
   "metadata": {
    "id": "6zzlTHmHUXEy"
   },
   "source": [
    "12) Visualize the empirical distributions of the train and test dataset (for some variables). Comment the results."
   ]
  },
  {
   "cell_type": "code",
   "execution_count": 40,
   "metadata": {
    "id": "Ae_a_3S3UXEz"
   },
   "outputs": [],
   "source": [
    "# Answer\n"
   ]
  },
  {
   "cell_type": "markdown",
   "metadata": {
    "id": "u0Bs7h3CUXEz"
   },
   "source": [
    "### Part 2: Train and evaluate models"
   ]
  },
  {
   "cell_type": "markdown",
   "metadata": {
    "id": "ymdFxt5FUXEz"
   },
   "source": [
    "13) Split the data into training and validation data using [train_test_split](https://scikit-learn.org/stable/modules/generated/sklearn.model_selection.train_test_split.html)"
   ]
  },
  {
   "cell_type": "code",
   "execution_count": null,
   "metadata": {
    "id": "zzlaxNj_UXEz"
   },
   "outputs": [],
   "source": [
    "# Answer\n"
   ]
  },
  {
   "cell_type": "markdown",
   "metadata": {
    "id": "khVf3MrfUXE0"
   },
   "source": [
    "14) Fit a [linear regression](https://scikit-learn.org/stable/modules/generated/sklearn.linear_model.LinearRegression.html) (we choose the linear regression to learn to predict the target variable) and measure its performance using the [RMSE](https://scikit-learn.org/stable/modules/generated/sklearn.metrics.mean_squared_error.html) (RMSE = Root Mean Square Error) and [MAPE](https://scikit-learn.org/stable/modules/generated/sklearn.metrics.mean_absolute_percentage_error.html) (MAPE = Mean Absolute Percentage Error) as metric. Measure its performance on the test data. Comment the results.\n",
    "\n",
    "**Recall:**\n",
    "\n",
    "$$RMSE(Y,\\hat{Y}) = \\sqrt{\\frac{1}{n} \\sum_{i=1}^n (Y_i - \\hat{Y_i})^2}\\,\\,\\,\\,\\,\\,\\,\\,MAPE(Y,\\hat{Y}) = \\frac{1}{n} \\sum_{i=1}^n \\frac{|Y_i - \\hat{Y_i}|}{Y_i}$$\n",
    "\n",
    "where $Y$ is the true target and  $\\hat{Y}$ is the predicted target  "
   ]
  },
  {
   "cell_type": "code",
   "execution_count": null,
   "metadata": {
    "id": "94TYnYX4UXE0"
   },
   "outputs": [],
   "source": [
    "# Answer\n"
   ]
  },
  {
   "cell_type": "markdown",
   "metadata": {
    "id": "Zzwqb4svUXE0"
   },
   "source": [
    "**Objective: Improve the predictions!**"
   ]
  },
  {
   "cell_type": "markdown",
   "metadata": {
    "id": "pjV0tqNEUXE0"
   },
   "source": [
    "15) Train the following models and evaluate their performance on validation and test set.\n",
    "* [K-Nearest Neighbors Regressor (KNeighborsRegressor)](https://scikit-learn.org/stable/modules/generated/sklearn.neighbors.KNeighborsRegressor.html)\n",
    "* [Ridge](https://scikit-learn.org/stable/modules/generated/sklearn.linear_model.Ridge.html)\n",
    "* [Random Forest Regressor](https://scikit-learn.org/stable/modules/generated/sklearn.ensemble.RandomForestRegressor.html)"
   ]
  },
  {
   "cell_type": "code",
   "execution_count": null,
   "metadata": {
    "id": "BZBqjn42UXE0"
   },
   "outputs": [],
   "source": [
    "# Answer\n"
   ]
  },
  {
   "cell_type": "markdown",
   "metadata": {
    "id": "vvFSb-z-UXE0"
   },
   "source": [
    "16) Define a function that takes in parameter a dictionnary of models and returns the mean and standard deviation of the MAPE on [cross validation](https://scikit-learn.org/stable/modules/generated/sklearn.model_selection.cross_val_score.html) with three sets. You can consider the following models:\n",
    "\n",
    "* [Support Vector Regressor (SVR)](https://scikit-learn.org/stable/modules/generated/sklearn.svm.SVR.html)\n",
    "* [Extreme Gradient Boosting Regressor (XGBRegressor)](https://xgboost.readthedocs.io/en/stable/parameter.html)\n",
    "* [Decision tree regressor](https://scikit-learn.org/stable/modules/generated/sklearn.tree.DecisionTreeRegressor.html)\n",
    "* [K-Nearest Neighbors Regressor (KNeighborsRegressor)](https://scikit-learn.org/stable/modules/generated/sklearn.neighbors.KNeighborsRegressor.html)\n",
    "* [Linear Regression](https://scikit-learn.org/stable/modules/generated/sklearn.linear_model.LinearRegression.html)\n",
    "* [Lasso](https://scikit-learn.org/stable/modules/generated/sklearn.linear_model.Lasso.html)\n",
    "* [Ridge](https://scikit-learn.org/stable/modules/generated/sklearn.linear_model.Ridge.html)\n",
    "* [Gradient Boosting Regressor](https://scikit-learn.org/stable/modules/generated/sklearn.ensemble.GradientBoostingRegressor.html)\n",
    "* [Random Forest Regressor](https://scikit-learn.org/stable/modules/generated/sklearn.ensemble.RandomForestRegressor.html)"
   ]
  },
  {
   "cell_type": "code",
   "execution_count": null,
   "metadata": {
    "id": "ZJhTVDYeUXE1"
   },
   "outputs": [],
   "source": [
    "# Answer\n"
   ]
  },
  {
   "cell_type": "markdown",
   "metadata": {
    "id": "poeRLAQhUXE1"
   },
   "source": [
    "### Part 4: Fine tunning"
   ]
  },
  {
   "cell_type": "markdown",
   "metadata": {
    "id": "M0nXhGYtUXE1"
   },
   "source": [
    "17) Choose three best methods and evaluate their performance on the test data by varying some of their parameters."
   ]
  },
  {
   "cell_type": "code",
   "execution_count": null,
   "metadata": {
    "id": "H5i-lADrUXE1"
   },
   "outputs": [],
   "source": [
    "# Answer\n"
   ]
  },
  {
   "cell_type": "markdown",
   "metadata": {
    "id": "F2YRzDDnUXE1"
   },
   "source": [
    "18) Perform an automated parameter search using [GridSearchCV](https://scikit-learn.org/stable/modules/generated/sklearn.model_selection.GridSearchCV.html) on a model of your choice and assess the performance of the best-tuned model on the test dataset."
   ]
  },
  {
   "cell_type": "code",
   "execution_count": null,
   "metadata": {
    "id": "jl3rw9PWUXE2"
   },
   "outputs": [],
   "source": [
    "# Answer\n"
   ]
  },
  {
   "cell_type": "markdown",
   "metadata": {
    "id": "p0FKMRwUUXE2"
   },
   "source": [
    "19) Perform an automated parameter search using Bayesian optimization with [gp_minimize](https://scikit-optimize.github.io/stable/modules/generated/skopt.gp_minimize.html) and assess the performance of the best-tuned model on the test dataset."
   ]
  },
  {
   "cell_type": "code",
   "execution_count": null,
   "metadata": {
    "id": "2TgbLb53UXE2"
   },
   "outputs": [],
   "source": [
    "# Answer\n"
   ]
  },
  {
   "cell_type": "markdown",
   "metadata": {
    "id": "LNKqGLetUXE2"
   },
   "source": [
    "### Part 5: Ensemble modeling"
   ]
  },
  {
   "cell_type": "markdown",
   "metadata": {
    "id": "b7at8FPDUXE3"
   },
   "source": [
    "20) **Aggregation:** Fit and predict the target using 4 best models. Then, aggregate the results using the mean and median. Evaluate the performances."
   ]
  },
  {
   "cell_type": "code",
   "execution_count": null,
   "metadata": {
    "id": "KHktUoGgUXE3"
   },
   "outputs": [],
   "source": [
    "# Answer\n"
   ]
  },
  {
   "cell_type": "markdown",
   "metadata": {
    "id": "LDbvQ5vpUXE3"
   },
   "source": [
    "21) **Stacking:** Perform the following steps:<br>\n",
    "\n",
    "   1. Fit the 4 best models on the ```tr_x``` and save the predictions on ```val_x``` on a new dataframe named ```design_layer1``` and the predictions on ```data_test``` on ```test_layer1```. <br>\n",
    "   2. Fit a new model on the ```design_layer1```. <br>\n",
    "   3. Predict the target using the new model.  "
   ]
  },
  {
   "cell_type": "code",
   "execution_count": null,
   "metadata": {
    "id": "CGJwSfzYUXE3"
   },
   "outputs": [],
   "source": [
    "# Answer\n"
   ]
  }
 ],
 "metadata": {
  "celltoolbar": "Diaporama",
  "colab": {
   "provenance": []
  },
  "kernelspec": {
   "display_name": "propertiesEvalModel",
   "language": "python",
   "name": "python3"
  },
  "language_info": {
   "codemirror_mode": {
    "name": "ipython",
    "version": 3
   },
   "file_extension": ".py",
   "mimetype": "text/x-python",
   "name": "python",
   "nbconvert_exporter": "python",
   "pygments_lexer": "ipython3",
   "version": "3.10.11"
  }
 },
 "nbformat": 4,
 "nbformat_minor": 0
}
